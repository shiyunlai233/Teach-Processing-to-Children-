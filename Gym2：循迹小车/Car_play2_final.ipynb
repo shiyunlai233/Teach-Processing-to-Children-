{
 "cells": [
  {
   "cell_type": "code",
   "execution_count": 1,
   "metadata": {},
   "outputs": [],
   "source": [
    "from skimage import data, segmentation\n",
    "from skimage import filters\n",
    "from skimage import exposure\n",
    "from skimage.morphology import skeletonize, skeletonize_3d\n",
    "from skimage.util import invert\n",
    "from skimage.measure import label, regionprops\n",
    "from skimage.feature import match_template\n",
    "from skimage import transform as tf\n",
    "from skimage.exposure import rescale_intensity\n",
    "from skimage.feature import (match_descriptors, corner_harris,\n",
    "                             corner_peaks, ORB, plot_matches)\n",
    "\n",
    "import matplotlib.pyplot as plt\n",
    "import numpy as np\n",
    "from functools import partial\n",
    "\n",
    "import gym"
   ]
  },
  {
   "cell_type": "code",
   "execution_count": null,
   "metadata": {},
   "outputs": [],
   "source": []
  },
  {
   "cell_type": "code",
   "execution_count": 2,
   "metadata": {},
   "outputs": [],
   "source": [
    "def get_obses():\n",
    "    obses = []\n",
    "    env = gym.make('CarRacing-v0')\n",
    "    for i_episode in range(2):\n",
    "        observation = env.reset()\n",
    "        for t in range(100):\n",
    "            env.render()\n",
    "            if t < 10:\n",
    "                action = (1.1, 1, 0) # steer, gas, brake\n",
    "            else:\n",
    "                action = (0, 0, 0)\n",
    "            observation, reward, done, info = env.step(action)\n",
    "            gray_obs = np.mean(observation, axis=2)\n",
    "            obses.append(gray_obs)\n",
    "            if done:\n",
    "                print(\"Episode finished after {} timesteps\".format(t+1))\n",
    "                break\n",
    "    env.close()\n",
    "    return obses\n",
    "\n",
    "def find_road_and_car_from_sence(sence, show=False):\n",
    "    \"   \"\n",
    "    camera = sence\n",
    "    hist, bins_center = exposure.histogram(camera)\n",
    "\n",
    "    if show:\n",
    "        plt.figure(figsize=(9, 4))\n",
    "        plt.subplot(141)\n",
    "        plt.imshow(camera, cmap='gray', interpolation='nearest')\n",
    "        plt.axis('off')\n",
    "        plt.subplot(142)\n",
    "\n",
    "    road = np.bitwise_and(camera > 90, camera < 120)\n",
    "    road = np.bitwise_or(road, camera < 2)\n",
    "    road[-20:, :] = False\n",
    "    # road[:10, :] = False # New\n",
    "    car = np.bitwise_and(camera > 60, camera < 80)\n",
    "    car[-10:, :] = False # New\n",
    "    road = np.bitwise_or(road, car)\n",
    "\n",
    "    if show:\n",
    "        plt.imshow(road, cmap='gray', interpolation='nearest')\n",
    "        plt.axis('off')\n",
    "        plt.subplot(143)\n",
    "        plt.imshow(car, cmap='gray', interpolation='nearest')\n",
    "        plt.axis('off')\n",
    "        plt.subplot(144)\n",
    "        plt.plot(bins_center, hist, lw=2)\n",
    "        plt.axvline(120, color='k', ls='--')\n",
    "\n",
    "        plt.tight_layout()\n",
    "        plt.show()\n",
    "    \n",
    "    return road, car\n",
    "\n",
    "def find_skeleton(image, show=False):\n",
    "    # perform skeletonization\n",
    "    skeleton = skeletonize_3d(image)\n",
    "\n",
    "    if show:\n",
    "        # display results\n",
    "        fig, axes = plt.subplots(nrows=1, ncols=2, figsize=(8, 4),\n",
    "                                 sharex=True, sharey=True)\n",
    "\n",
    "        ax = axes.ravel()\n",
    "\n",
    "        ax[0].imshow(image, cmap=plt.cm.gray)\n",
    "        #ax[0].axis('off')\n",
    "        ax[0].set_title('original', fontsize=20)\n",
    "\n",
    "        ax[1].imshow(skeleton, cmap=plt.cm.gray)\n",
    "        #ax[1].axis('off')\n",
    "        ax[1].set_title('skeleton', fontsize=20)\n",
    "\n",
    "        fig.tight_layout()\n",
    "        plt.show()\n",
    "    \n",
    "    return skeleton\n",
    "\n",
    "def find_not_zero_from_matrix(m):\n",
    "    ans = []\n",
    "    for i, line in enumerate(m):\n",
    "        for k, point in enumerate(line):\n",
    "            if point>0:\n",
    "                ans.append((i, k))\n",
    "    return ans"
   ]
  },
  {
   "cell_type": "code",
   "execution_count": 3,
   "metadata": {},
   "outputs": [
    {
     "name": "stdout",
     "output_type": "stream",
     "text": [
      "Track generation: 1104..1384 -> 280-tiles track\n",
      "Track generation: 1189..1490 -> 301-tiles track\n"
     ]
    },
    {
     "data": {
      "text/plain": [
       "200"
      ]
     },
     "execution_count": 3,
     "metadata": {},
     "output_type": "execute_result"
    }
   ],
   "source": [
    "obses = get_obses()\n",
    "\n",
    "len(obses)"
   ]
  },
  {
   "cell_type": "code",
   "execution_count": 4,
   "metadata": {},
   "outputs": [],
   "source": [
    "imshow = partial(plt.imshow, cmap='gray')"
   ]
  },
  {
   "cell_type": "code",
   "execution_count": 5,
   "metadata": {},
   "outputs": [
    {
     "data": {
      "text/plain": [
       "<matplotlib.image.AxesImage at 0x18abefeafc8>"
      ]
     },
     "execution_count": 5,
     "metadata": {},
     "output_type": "execute_result"
    },
    {
     "data": {
      "image/png": "[encoded data removed]",
      "text/plain": [
       "<Figure size 432x288 with 1 Axes>"
      ]
     },
     "metadata": {
      "needs_background": "light"
     },
     "output_type": "display_data"
    }
   ],
   "source": [
    "k = 99\n",
    "imshow(obses[k])"
   ]
  },
  {
   "cell_type": "code",
   "execution_count": 6,
   "metadata": {},
   "outputs": [
    {
     "data": {
      "image/png": "[encoded data removed]",
      "text/plain": [
       "<Figure size 648x288 with 4 Axes>"
      ]
     },
     "metadata": {
      "needs_background": "light"
     },
     "output_type": "display_data"
    }
   ],
   "source": [
    "road, car = find_road_and_car_from_sence(obses[90], show=True)"
   ]
  },
  {
   "cell_type": "code",
   "execution_count": 7,
   "metadata": {},
   "outputs": [],
   "source": [
    "road_skeleton = find_skeleton(road)\n",
    "car_skeleton = find_skeleton(car)"
   ]
  },
  {
   "cell_type": "code",
   "execution_count": 8,
   "metadata": {},
   "outputs": [],
   "source": [
    "road_xy = find_not_zero_from_matrix(road_skeleton)\n",
    "car_xy = find_not_zero_from_matrix(car_skeleton)"
   ]
  },
  {
   "cell_type": "code",
   "execution_count": 9,
   "metadata": {},
   "outputs": [
    {
     "data": {
      "text/plain": [
       "(75, 47)"
      ]
     },
     "execution_count": 9,
     "metadata": {},
     "output_type": "execute_result"
    }
   ],
   "source": [
    "car_head = car_xy[-1] # 预计稳定后一直是 (75, 47)  # 向下是x，向右是y\n",
    "car_head"
   ]
  },
  {
   "cell_type": "code",
   "execution_count": 10,
   "metadata": {},
   "outputs": [
    {
     "data": {
      "text/plain": [
       "[(61, 39), (62, 39), (63, 40), (64, 40), (65, 40), (66, 40)]"
      ]
     },
     "execution_count": 10,
     "metadata": {},
     "output_type": "execute_result"
    }
   ],
   "source": [
    "road_xy = [a for a in road_xy if 60<a[0]<75]\n",
    "road_xy"
   ]
  },
  {
   "cell_type": "code",
   "execution_count": 11,
   "metadata": {},
   "outputs": [],
   "source": [
    "car_bias = np.mean([y-47 for (x, y) in road_xy])"
   ]
  },
  {
   "cell_type": "code",
   "execution_count": 12,
   "metadata": {},
   "outputs": [
    {
     "data": {
      "text/plain": [
       "-7.333333333333333"
      ]
     },
     "execution_count": 12,
     "metadata": {},
     "output_type": "execute_result"
    }
   ],
   "source": [
    "car_bias"
   ]
  },
  {
   "cell_type": "markdown",
   "metadata": {},
   "source": [
    "## The final ans: GET CAR BIAS"
   ]
  },
  {
   "cell_type": "code",
   "execution_count": 13,
   "metadata": {},
   "outputs": [],
   "source": [
    "def cacl_car_bias(sence, show=False):\n",
    "    road, car = find_road_and_car_from_sence(sence, show)\n",
    "    road_skeleton = find_skeleton(road, show)\n",
    "    car_skeleton = find_skeleton(car, show)\n",
    "    road_xy = find_not_zero_from_matrix(road_skeleton)\n",
    "    car_xy = find_not_zero_from_matrix(car_skeleton)\n",
    "    car_head = car_xy[-1]\n",
    "    road_xy = [a for a in road_xy if 60<a[0]<75]\n",
    "    car_bias = np.mean([y-47 for (x, y) in road_xy])\n",
    "    return car_bias"
   ]
  },
  {
   "cell_type": "code",
   "execution_count": 14,
   "metadata": {},
   "outputs": [
    {
     "data": {
      "image/png": "[encoded data removed]",
      "text/plain": [
       "<Figure size 648x288 with 4 Axes>"
      ]
     },
     "metadata": {
      "needs_background": "light"
     },
     "output_type": "display_data"
    },
    {
     "data": {
      "image/png": "[encoded data removed]",
      "text/plain": [
       "<Figure size 576x288 with 2 Axes>"
      ]
     },
     "metadata": {
      "needs_background": "light"
     },
     "output_type": "display_data"
    },
    {
     "data": {
      "image/png": "[encoded data removed]",
      "text/plain": [
       "<Figure size 576x288 with 2 Axes>"
      ]
     },
     "metadata": {
      "needs_background": "light"
     },
     "output_type": "display_data"
    },
    {
     "data": {
      "text/plain": [
       "-4.0"
      ]
     },
     "execution_count": 14,
     "metadata": {},
     "output_type": "execute_result"
    }
   ],
   "source": [
    "cacl_car_bias(obses[50], show=True)  # 从50帧之后开始进行转弯控制"
   ]
  },
  {
   "cell_type": "code",
   "execution_count": 20,
   "metadata": {},
   "outputs": [
    {
     "name": "stdout",
     "output_type": "stream",
     "text": [
      "Track generation: 1193..1497 -> 304-tiles track\n",
      "Episode finished after 1000 timesteps\n",
      "Track generation: 1243..1558 -> 315-tiles track\n",
      "Episode finished after 1000 timesteps\n"
     ]
    }
   ],
   "source": [
    "def test():\n",
    "    obses = []\n",
    "    env = gym.make('CarRacing-v0')\n",
    "    for i_episode in range(2):\n",
    "        observation = env.reset()\n",
    "        gray_obs = np.mean(observation, axis=2)\n",
    "        obses.append(gray_obs)\n",
    "        for t in range(1000):\n",
    "            env.render()\n",
    "            if t < 10:\n",
    "                action = (0, 1, 0) # steer, gas, brake\n",
    "            elif 10 <=t < 50:\n",
    "                action = (0, 0, 0)\n",
    "            else:\n",
    "                car_bias = cacl_car_bias(gray_obs)\n",
    "                action = (car_bias/10, 0, 0)\n",
    "            observation, reward, done, info = env.step(action)\n",
    "            gray_obs = np.mean(observation, axis=2)\n",
    "            obses.append(gray_obs)\n",
    "            if done:\n",
    "                print(\"Episode finished after {} timesteps\".format(t+1))\n",
    "                break\n",
    "    env.close()\n",
    "    return obses\n",
    "\n",
    "_ = test()"
   ]
  },
  {
   "cell_type": "code",
   "execution_count": null,
   "metadata": {},
   "outputs": [],
   "source": []
  },
  {
   "cell_type": "code",
   "execution_count": null,
   "metadata": {},
   "outputs": [],
   "source": []
  },
  {
   "cell_type": "code",
   "execution_count": null,
   "metadata": {},
   "outputs": [],
   "source": []
  },
  {
   "cell_type": "markdown",
   "metadata": {},
   "source": [
    "## Find out the Car Use Tmpleta"
   ]
  },
  {
   "cell_type": "code",
   "execution_count": 16,
   "metadata": {},
   "outputs": [
    {
     "data": {
      "text/plain": [
       "<matplotlib.image.AxesImage at 0x18abf137bc8>"
      ]
     },
     "execution_count": 16,
     "metadata": {},
     "output_type": "execute_result"
    },
    {
     "data": {
      "image/png": "[encoded data removed]",
      "text/plain": [
       "<Figure size 432x288 with 1 Axes>"
      ]
     },
     "metadata": {
      "needs_background": "light"
     },
     "output_type": "display_data"
    }
   ],
   "source": [
    "imshow(car)"
   ]
  },
  {
   "cell_type": "code",
   "execution_count": 17,
   "metadata": {},
   "outputs": [
    {
     "data": {
      "text/plain": [
       "<matplotlib.image.AxesImage at 0x18ac2f7dbc8>"
      ]
     },
     "execution_count": 17,
     "metadata": {},
     "output_type": "execute_result"
    },
    {
     "data": {
      "image/png": "[encoded data removed]",
      "text/plain": [
       "<Figure size 432x288 with 1 Axes>"
      ]
     },
     "metadata": {
      "needs_background": "light"
     },
     "output_type": "display_data"
    }
   ],
   "source": [
    "car_image = np.copy(car[67:77, 46:50]) \n",
    "imshow(car_image)"
   ]
  },
  {
   "cell_type": "code",
   "execution_count": 18,
   "metadata": {
    "scrolled": false
   },
   "outputs": [
    {
     "data": {
      "image/png": "[encoded data removed]",
      "text/plain": [
       "<Figure size 576x216 with 3 Axes>"
      ]
     },
     "metadata": {
      "needs_background": "light"
     },
     "output_type": "display_data"
    }
   ],
   "source": [
    "image = obses[90]\n",
    "coin = car_image\n",
    "\n",
    "result = match_template(image, coin)\n",
    "ij = np.unravel_index(np.argmax(result), result.shape) # 图像中某些点转换成坐标\n",
    "x, y = ij[::-1] # 注意这里的写法\n",
    "\n",
    "fig = plt.figure(figsize=(8, 3))\n",
    "ax1 = plt.subplot(1, 3, 1)\n",
    "ax2 = plt.subplot(1, 3, 2)\n",
    "ax3 = plt.subplot(1, 3, 3, sharex=ax2, sharey=ax2)\n",
    "\n",
    "ax1.imshow(coin, cmap=plt.cm.gray)\n",
    "ax1.set_axis_off()\n",
    "ax1.set_title('template')\n",
    "\n",
    "ax2.imshow(image, cmap=plt.cm.gray)\n",
    "ax2.set_axis_off()\n",
    "ax2.set_title('image')\n",
    "# highlight matched region\n",
    "hcoin, wcoin = coin.shape\n",
    "rect = plt.Rectangle((x, y), wcoin, hcoin, edgecolor='r', facecolor='none')\n",
    "ax2.add_patch(rect)\n",
    "\n",
    "ax3.imshow(result)\n",
    "ax3.set_axis_off()\n",
    "ax3.set_title('`match_template`\\nresult')\n",
    "# highlight matched region\n",
    "ax3.autoscale(False)\n",
    "ax3.plot(x, y, 'o', markeredgecolor='r', markerfacecolor='none', markersize=10)\n",
    "\n",
    "plt.show()"
   ]
  },
  {
   "cell_type": "code",
   "execution_count": 19,
   "metadata": {},
   "outputs": [],
   "source": [
    "np.unravel_index??"
   ]
  },
  {
   "cell_type": "code",
   "execution_count": null,
   "metadata": {},
   "outputs": [],
   "source": []
  },
  {
   "cell_type": "code",
   "execution_count": null,
   "metadata": {},
   "outputs": [],
   "source": []
  }
 ],
 "metadata": {
  "kernelspec": {
   "display_name": "Python 3",
   "language": "python",
   "name": "python3"
  },
  "language_info": {
   "codemirror_mode": {
    "name": "ipython",
    "version": 3
   },
   "file_extension": ".py",
   "mimetype": "text/x-python",
   "name": "python",
   "nbconvert_exporter": "python",
   "pygments_lexer": "ipython3",
   "version": "3.7.4"
  }
 },
 "nbformat": 4,
 "nbformat_minor": 2
}
